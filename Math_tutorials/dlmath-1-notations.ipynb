{
 "cells": [
  {
   "cell_type": "markdown",
   "id": "9dbfecd7",
   "metadata": {
    "papermill": {
     "duration": 0.005141,
     "end_time": "2023-09-03T13:23:03.453690",
     "exception": false,
     "start_time": "2023-09-03T13:23:03.448549",
     "status": "completed"
    },
    "tags": []
   },
   "source": [
    "# Deep Learning Math 101, Part 1: Introduction to Artificial Intelligence"
   ]
  },
  {
   "cell_type": "markdown",
   "id": "72a4b21e",
   "metadata": {
    "papermill": {
     "duration": 0.003502,
     "end_time": "2023-09-03T13:23:03.461351",
     "exception": false,
     "start_time": "2023-09-03T13:23:03.457849",
     "status": "completed"
    },
    "tags": []
   },
   "source": [
    "### About Me\n",
    "Hi, I'm Vishwa from IIT Madras, India. \n",
    "\n",
    "### About this series\n",
    "I've been wanting to understand the Deep learning book by Ian Goodfellow and and Yoshua Bengio and Aaron Courville. So, I thought why not make a tutorial series covering this book, linear algebra and probability to help others with getting started on the math too. I have added some of my own analogies and learning from other sources to help make this series more useful.\n",
    "\n",
    "Link to the book: https://www.deeplearningbook.org/"
   ]
  },
  {
   "cell_type": "markdown",
   "id": "6c9e5b64",
   "metadata": {
    "papermill": {
     "duration": 0.003423,
     "end_time": "2023-09-03T13:23:03.468638",
     "exception": false,
     "start_time": "2023-09-03T13:23:03.465215",
     "status": "completed"
    },
    "tags": []
   },
   "source": []
  }
 ],
 "kernelspec": {
  "display_name": "Python 3",
  "language": "python",
  "name": "python3"
 },
 "language_info": {
  "codemirror_mode": {
   "name": "ipython",
   "version": 3
  },
  "file_extension": ".py",
  "mimetype": "text/x-python",
  "name": "python",
  "nbconvert_exporter": "python",
  "pygments_lexer": "ipython3",
  "version": "3.6.4"
 },
 "metadata": {
  "kernelspec": {
   "display_name": "Python 3",
   "language": "python",
   "name": "python3"
  },
  "language_info": {
   "codemirror_mode": {
    "name": "ipython",
    "version": 3
   },
   "file_extension": ".py",
   "mimetype": "text/x-python",
   "name": "python",
   "nbconvert_exporter": "python",
   "pygments_lexer": "ipython3",
   "version": "3.10.12"
  },
  "papermill": {
   "default_parameters": {},
   "duration": 14.812755,
   "end_time": "2023-09-03T13:23:04.503972",
   "environment_variables": {},
   "exception": null,
   "input_path": "__notebook__.ipynb",
   "output_path": "__notebook__.ipynb",
   "parameters": {},
   "start_time": "2023-09-03T13:22:49.691217",
   "version": "2.4.0"
  }
 },
 "nbformat": 4,
 "nbformat_minor": 5
}
