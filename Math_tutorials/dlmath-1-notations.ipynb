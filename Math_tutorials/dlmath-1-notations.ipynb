{
 "cells": [
  {
   "cell_type": "markdown",
   "id": "43a261d2",
   "metadata": {
    "papermill": {
     "duration": 0.002523,
     "end_time": "2024-02-06T17:44:51.489333",
     "exception": false,
     "start_time": "2024-02-06T17:44:51.486810",
     "status": "completed"
    },
    "tags": []
   },
   "source": [
    "# Deep Learning Math 101, Part 1: Introduction to Artificial Intelligence"
   ]
  },
  {
   "cell_type": "markdown",
   "id": "54a44c59",
   "metadata": {
    "papermill": {
     "duration": 0.001678,
     "end_time": "2024-02-06T17:44:51.493264",
     "exception": false,
     "start_time": "2024-02-06T17:44:51.491586",
     "status": "completed"
    },
    "tags": []
   },
   "source": [
    "### About Me\n",
    "Hi, I'm Vishwa from IIT Madras, India. \n",
    "\n",
    "### About this series\n",
    "I've been wanting to understand the Deep learning book by Ian Goodfellow and and Yoshua Bengio and Aaron Courville. So, I thought why not make a tutorial series covering this book, linear algebra and probability to help others with getting started on the math too. I have added some of my own analogies and learning from other sources to help make this series more useful.\n",
    "\n",
    "Link to the book: https://www.deeplearningbook.org/"
   ]
  },
  {
   "cell_type": "markdown",
   "id": "127dde82",
   "metadata": {
    "papermill": {
     "duration": 0.001558,
     "end_time": "2024-02-06T17:44:51.496677",
     "exception": false,
     "start_time": "2024-02-06T17:44:51.495119",
     "status": "completed"
    },
    "tags": []
   },
   "source": []
  }
 ],
 "metadata": {
  "kaggle": {
   "accelerator": "none",
   "dataSources": [],
   "dockerImageVersionId": 30527,
   "isGpuEnabled": false,
   "isInternetEnabled": true,
   "language": "python",
   "sourceType": "notebook"
  },
  "kernelspec": {
   "display_name": "Python 3",
   "language": "python",
   "name": "python3"
  },
  "language_info": {
   "codemirror_mode": {
    "name": "ipython",
    "version": 3
   },
   "file_extension": ".py",
   "mimetype": "text/x-python",
   "name": "python",
   "nbconvert_exporter": "python",
   "pygments_lexer": "ipython3",
   "version": "3.10.12"
  },
  "papermill": {
   "default_parameters": {},
   "duration": 13.790934,
   "end_time": "2024-02-06T17:44:52.324678",
   "environment_variables": {},
   "exception": null,
   "input_path": "__notebook__.ipynb",
   "output_path": "__notebook__.ipynb",
   "parameters": {},
   "start_time": "2024-02-06T17:44:38.533744",
   "version": "2.4.0"
  }
 },
 "nbformat": 4,
 "nbformat_minor": 5
}
